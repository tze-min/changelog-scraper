{
 "cells": [
  {
   "cell_type": "code",
   "execution_count": 2,
   "id": "a9c72d6a",
   "metadata": {},
   "outputs": [],
   "source": [
    "import pandas as pd\n",
    "from tqdm import tqdm\n",
    "from time import sleep\n",
    "from datetime import datetime\n",
    "\n",
    "from selenium import webdriver\n",
    "from webdriver_manager.chrome import ChromeDriverManager\n",
    "from selenium.common.exceptions import TimeoutException\n",
    "from selenium.webdriver.support.ui import WebDriverWait\n",
    "from selenium.webdriver.support import expected_conditions as EC\n",
    "from selenium.webdriver.common.by import By\n",
    "from selenium.webdriver.chrome.options import Options\n",
    "\n",
    "options = Options()\n",
    "#options.add_argument(\"--headless\")\n",
    "options.add_argument(\"start-maximized\")\n",
    "options.add_experimental_option(\"excludeSwitches\", [\"enable-automation\"])\n",
    "options.add_experimental_option('useAutomationExtension', False)"
   ]
  },
  {
   "cell_type": "code",
   "execution_count": 2,
   "id": "31a55e41",
   "metadata": {
    "scrolled": true
   },
   "outputs": [
    {
     "data": {
      "text/html": [
       "<div>\n",
       "<style scoped>\n",
       "    .dataframe tbody tr th:only-of-type {\n",
       "        vertical-align: middle;\n",
       "    }\n",
       "\n",
       "    .dataframe tbody tr th {\n",
       "        vertical-align: top;\n",
       "    }\n",
       "\n",
       "    .dataframe thead th {\n",
       "        text-align: right;\n",
       "    }\n",
       "</style>\n",
       "<table border=\"1\" class=\"dataframe\">\n",
       "  <thead>\n",
       "    <tr style=\"text-align: right;\">\n",
       "      <th></th>\n",
       "      <th>name</th>\n",
       "      <th>app_name</th>\n",
       "      <th>website</th>\n",
       "      <th>app_name.1</th>\n",
       "      <th>appstore_link</th>\n",
       "    </tr>\n",
       "  </thead>\n",
       "  <tbody>\n",
       "    <tr>\n",
       "      <th>0</th>\n",
       "      <td>TWITTER</td>\n",
       "      <td>Twitter</td>\n",
       "      <td>twitter.com</td>\n",
       "      <td>Twitter</td>\n",
       "      <td>https://apps.apple.com/us/app/twitter/id333903...</td>\n",
       "    </tr>\n",
       "    <tr>\n",
       "      <th>1</th>\n",
       "      <td>SLACKER</td>\n",
       "      <td>Slacker Studio</td>\n",
       "      <td>slacker.com</td>\n",
       "      <td>Slacker Studio</td>\n",
       "      <td>https://apps.apple.com/us/app/slacker-studio/i...</td>\n",
       "    </tr>\n",
       "    <tr>\n",
       "      <th>2</th>\n",
       "      <td>LIFELOCK</td>\n",
       "      <td>LifeLock ID Theft Protection</td>\n",
       "      <td>lifelock.com</td>\n",
       "      <td>LifeLock ID Theft Protection</td>\n",
       "      <td>https://apps.apple.com/us/app/lifelock-id-thef...</td>\n",
       "    </tr>\n",
       "    <tr>\n",
       "      <th>3</th>\n",
       "      <td>YOUTUBE</td>\n",
       "      <td>YouTube: Watch, Listen, Stream</td>\n",
       "      <td>youtube.com</td>\n",
       "      <td>YouTube: Watch, Listen, Stream</td>\n",
       "      <td>https://apps.apple.com/us/app/youtube-watch-li...</td>\n",
       "    </tr>\n",
       "    <tr>\n",
       "      <th>4</th>\n",
       "      <td>POPSUGAR</td>\n",
       "      <td>POPSUGAR</td>\n",
       "      <td>popsugar.com</td>\n",
       "      <td>POPSUGAR</td>\n",
       "      <td>https://apps.apple.com/us/app/popsugar/id32686...</td>\n",
       "    </tr>\n",
       "  </tbody>\n",
       "</table>\n",
       "</div>"
      ],
      "text/plain": [
       "       name                        app_name       website  \\\n",
       "0   TWITTER                         Twitter   twitter.com   \n",
       "1   SLACKER                  Slacker Studio   slacker.com   \n",
       "2  LIFELOCK    LifeLock ID Theft Protection  lifelock.com   \n",
       "3   YOUTUBE  YouTube: Watch, Listen, Stream   youtube.com   \n",
       "4  POPSUGAR                        POPSUGAR  popsugar.com   \n",
       "\n",
       "                       app_name.1  \\\n",
       "0                         Twitter   \n",
       "1                  Slacker Studio   \n",
       "2    LifeLock ID Theft Protection   \n",
       "3  YouTube: Watch, Listen, Stream   \n",
       "4                        POPSUGAR   \n",
       "\n",
       "                                       appstore_link  \n",
       "0  https://apps.apple.com/us/app/twitter/id333903...  \n",
       "1  https://apps.apple.com/us/app/slacker-studio/i...  \n",
       "2  https://apps.apple.com/us/app/lifelock-id-thef...  \n",
       "3  https://apps.apple.com/us/app/youtube-watch-li...  \n",
       "4  https://apps.apple.com/us/app/popsugar/id32686...  "
      ]
     },
     "execution_count": 2,
     "metadata": {},
     "output_type": "execute_result"
    }
   ],
   "source": [
    "d = pd.read_csv(\"data/apps_of_interest.csv\")\n",
    "d.head()"
   ]
  },
  {
   "cell_type": "code",
   "execution_count": 3,
   "id": "24f36ccc",
   "metadata": {},
   "outputs": [
    {
     "data": {
      "text/plain": [
       "13103"
      ]
     },
     "execution_count": 3,
     "metadata": {},
     "output_type": "execute_result"
    }
   ],
   "source": [
    "len(d)"
   ]
  },
  {
   "cell_type": "code",
   "execution_count": null,
   "id": "91db09ca",
   "metadata": {
    "scrolled": true
   },
   "outputs": [
    {
     "name": "stderr",
     "output_type": "stream",
     "text": [
      "  2%|█▏                                                                         | 205/13103 [37:08<35:54:21, 10.02s/it]"
     ]
    }
   ],
   "source": [
    "links = d[\"appstore_link\"].tolist()\n",
    "num_major_updates = []\n",
    "num_minor_updates = []\n",
    "\n",
    "for row in tqdm(range(len(d))):\n",
    "    \n",
    "    # access Apple App Store link\n",
    "    driver = webdriver.Chrome(\"C:/bin/chromedriver.exe\", options = options)\n",
    "    url = links[row]\n",
    "    driver.get(url)\n",
    "    \n",
    "    # click on Version History button\n",
    "    try:\n",
    "        WebDriverWait(driver, 30).until(EC.element_to_be_clickable((By.XPATH, \"/html/body/div[4]/div/main/div[2]/section[4]/div[1]/div/button\")))\n",
    "        button = driver.find_element_by_xpath(\"/html/body/div[4]/div/main/div[2]/section[4]/div[1]/div/button\")\n",
    "        button.click()\n",
    "    except TimeoutException as ex:\n",
    "        driver.close()\n",
    "        num_major_updates.append(-1)\n",
    "        num_minor_updates.append(-1)\n",
    "        continue\n",
    "    \n",
    "    # get versions into an array\n",
    "    try:\n",
    "        modal = WebDriverWait(driver, 30).until(EC.presence_of_element_located((By.XPATH, \"/html/body/div[5]\")))\n",
    "        version_items = modal.find_elements_by_tag_name(\"h4\")\n",
    "    except TimeoutException as ex:\n",
    "        print(\"TimeoutException thrown at locating modal and its elements.\")\n",
    "        driver.close()\n",
    "        num_major_updates.append(-2)\n",
    "        num_minor_updates.append(-2)\n",
    "        continue\n",
    "        \n",
    "    versions = list(map(lambda v: v.text, version_items))\n",
    "    driver.close()\n",
    "    \n",
    "    # count and save the number of major and minor updates\n",
    "    major = int(len(set([v[0] for v in versions])) - 1)\n",
    "    minor = int(len(versions) - 1 - major)\n",
    "    num_major_updates.append(major)\n",
    "    num_minor_updates.append(minor)"
   ]
  },
  {
   "cell_type": "code",
   "execution_count": null,
   "id": "c0a37768",
   "metadata": {},
   "outputs": [],
   "source": [
    "d[\"num_major_updates\"] = pd.Series(num_major_updates)\n",
    "d[\"num_minor_updates\"] = pd.Series(num_minor_updates)\n",
    "d.info()"
   ]
  },
  {
   "cell_type": "code",
   "execution_count": null,
   "id": "9553ab03",
   "metadata": {},
   "outputs": [],
   "source": [
    "now = datetime.now().strftime(\"%Y%m%d_%H%M%S\")\n",
    "fname = \"\".join([\"data/\", now, \"_appdata.csv\"])\n",
    "d.to_csv(fname, index = False)"
   ]
  },
  {
   "cell_type": "code",
   "execution_count": 5,
   "id": "65cc7b23",
   "metadata": {
    "scrolled": true
   },
   "outputs": [
    {
     "name": "stdout",
     "output_type": "stream",
     "text": [
      "major updates: [0, 0, 0, 0, 1, 0, 1, 1, 2, 2, 0, 0, -5, 2, 0, 0, 1, 1, 0, 1, 0, 0, -5, 4, 2, 0, 1, 0, 2, 0, 0, 0, 0, 1, 1, 0, 0, 1, 2, 1, 0, 0, 1, 0, 0, 1, 1, 1, 0, 1, 0, 0, -5, 1, 0, 1, 0, 0, 0, 1, 0, 0, 3, 2, 1, 1, 1, 0, -5, 0, 0, 0, 0, 0, 1, 0, -5, 2, 1, 0, 0, 0, 1, 0, 0, 0, 0, 0, 0, 1, 0, 2, 0, 0, 1, 2, 0, 2, 0, 0, 3, 0, 0, 2, 1, 5, 0, 0, 2, 2, 2, 0, 1, 0, 0, 0, 0, 0, 0, 3, 1, 0, -5, 0, 1, 1, 0, 0, 5, 1, 1, 0, 0, 0, 0, 0, -5, 1, 0, 2, 4, 3, -5, 2, 0, 2, 0, 0, 3, 0, 0, 2, 0, 0, 3, 0, 2, 1, 1, 1, 0, 0, 0, 0, 2, 1, 1, 0, 0, 2, 0, 0, 0, 1, 0, 0, 1, 0, 0, 0, 2, 0, 3, 0, 0, 6, 1, 2, 0, 1, 1, 1, 0, 2, 0, 0, 0, 0, 0, 2, 1, 0, 2, 0, 0, 1, 0, 0, 0, 0, 0, 1, 0, -5, 0, 2, 0, 3, 1, 0, 0, 0, 0, 0, 0, 1, 1, -5, -5, 0, 1, 1, 1, 0, 3, 0, 0, 0, 7, 0, 0, 0, 1, 0, 0, 0, -5, 0, 0, 0, 1, 0, 0, 0, 0, 0, 0, 0, 1, 0, 0, -5, 0, -5, 0, 0, 5, 0, 0, 0, 0, 1, 0, 2, 1, 2, -5, 0, 1, 0, 0, 1, 0, -5, 1, -5, 2, 0, 0, 0, 0, 0, -5, 2, 1, 0, 0, 0, 0, 0, 1, 1, 3, 0, 0, 0, 2, 0, 0, 1, -5, 0, 0, 1, 0, 0, 0, 1, 0, 0, 0, 0, 0, 0, 0, 0, 2, 0, 2, 1, 0, 1, 0, 2, 1, 2, 0, 0, 2, 1, 0, 0, 0, 0, 1, 0, 0, 0, 0, 0, -5, 1, 0, 0, 2, 0, 0, 1, 0, 0, 0, 0, 1, 2, 0, 2, 0, 0, 0, 1, 1, 0, 0, 7, 0, 1, -5, 1, 0, 4, -5, 2, -5, -5, 0, 1, 1, 0, 1, 1, 1, 2, 1, 4, 0, 1, 3, 0, 0, 2, 0, 0, -5, 3, 0, 2, 1, 1, 1, 2, 1, 1, 4, -5, 0, 0, 1, 0, 1, 0, 0, 0, 0, 0, 2, 1, 0, 0, 0, 0, 0, 0, 1, 0, 1, 2, 0, -5, 1, 1, 0, 3, 1, 0, 1, -5, 0, 2, 0, 0, 0, 1, 0, 1, 4, 0, 0, 1, -5, 1, 0, 0, 0, 0, 0, 1, 0, 1, 0, 2, 2, 0, 0, 3, 0, 0, 0, -5, 2, 0, 0, 0, 2, 2, 3, 0, -5, 1, 0, 0, 0, 0, 0, 1, 1, 4, 1, 4, 0, -5, 0, 0, 2, 0, 0, 0, 0, 0, 1, 2, 0, 1, 0, 3, 0, 0, -5, 1, 0, 0, 0, 2, 1, 0, 2, 1, 0, -5, -5, 1, 0, 2, -5, -5, 0, 3, 0, 1, 1, -5, 1, 0, 1, 1, 1, 2, 0, 2, 1, 0, -5, 1, 0, 0, -5, 0, 0, 0, 0, 0, 1, 2, 0, 0, 1, -5, 0, 0, 0, 0, 1, 1, 2, 0, 1, 1, 0, 0, 0, 2, 0, 4, 1, 0, 0, 1, 0, 0, 1, 1, 1, 0, -5, 1, 0, 0, 0, -5, 3, 5, 1, 0, -5, 0, 0, 1, 1, 0, 0, 0, 0, 0, 0, 1, -5, 1, 2, 0, 3, 0, -5, 2, 0, 0, 0, 1, 0, 0, 0, 2, 2, 0, 0, 1, 0, 2, 3, 1, 1, 0, 1, 0, 5, 0, 2, 0, 0, 1, -5, 1, 4, 2, 0, -5, 0, 0, -5, 1, 1, 1, 0, 4, 0, 2, 1, 2, 1, 3, 0, 0, 0, 2, 1, 2, 1, 1, 2, 0, -5, 1, 0, 0, 1, -5, 1, -5, 0, 0, 0, 0, 0, -5, 0, 2, 0, 0, 1, 2, 1, 1, 0, 4, 0, 1, 0, 1, 2, 2, 5, 3, 0, 2, -5, 0, -5, 0, 0, 1, 2, 1, 0, 1, 0, 1, 0, 0, 2, 0, 1, 0, 0, 0, 2, 0, 0, 0, 0, 1, 0, 0, 3, 2, 0, 0, 1, 3, 1, 2, 0, 2, 1, 0, 0, 0, 1, 1, 0, 1, 0, 0, 0, 1, 2, 1, 1, 1, 0, 3, 1, 2, 0, 1, 0, 2, 0, 0, 4, 2, 0, 2, 0, 0, -5, 1, 0, -5, 1, 0, 0, 1, 1, 0, 0, 0, 1, 0, 0, 0, 3, 1, 1, 0, 1, 3, 3, 0, 1, 1, 4, 0, 0, 6, 1, 0, 0, -5, 0, 0, 0, 0, 1, 0, 0, 2, 1, 0, 2, 0, 1, 2, 0, 0, 0, 0, 3, 1, 1, 0, 0, 1, 1, 1, 1, 0, 2, 0, 3, -5, 1, 2, 1, 1, 0, 1, 1, 0, 0, 1, 1, 1, -5, 1, 0, 0, 2, 1, 0, -5, 0, 1, 1, 1, 1, -5, 1, 5, 0, 0, 0, -5, 2, -5, 2, 0, 0, 0, 2, 0, 1, 0, 8, 0, 0, 1, 1, 2, 0, 0, 0, 1, 2, 0, 3, 1, 2, 0, 1, 1, 0, 0, 0, 0, 0, 1, 1, 1, 0, -5, 0, 1, 0, 0, 2, 0, 0, 0, 2, 0, 0, 1, 0, 0, 0, -5, 0, 3, 2, 0, 1, 1, 2, 1, 0, 0, 1, 0, 0]\n",
      "minor updates: [24, 7, 24, 24, 23, 24, 23, 23, 22, 22, 24, 24, -5, 22, 24, 24, 23, 23, 5, 23, 24, 24, -5, 20, 22, 24, 23, 24, 22, 3, 24, 24, 24, 23, 23, 24, 24, 23, 22, 23, 24, 24, 16, 24, 24, 3, 23, 23, 11, 23, 24, 24, -5, 14, 24, 23, 24, 24, 15, 15, 24, 24, 21, 13, 23, 23, 23, 24, -5, 24, 24, 24, 2, 5, 18, 24, -5, 22, 10, 24, 24, 24, 23, 3, 3, 24, 24, 24, 24, 3, 24, 22, 24, 24, 23, 6, 24, 22, 2, 6, 21, 24, 24, 22, 23, 19, 24, 8, 22, 7, 22, 3, 23, 24, 24, 4, 24, 24, 24, 21, 23, 24, -5, 24, 23, 23, 24, 7, 19, 23, 0, 6, 24, 2, 24, 24, -5, 3, 1, 22, 20, 21, -5, 22, 7, 22, 24, 24, 13, 4, 11, 20, 22, 24, 14, 24, 22, 23, 23, 23, 0, 24, 5, 24, 7, 23, 23, 24, 18, 16, 7, 3, 24, 13, 7, 24, 23, 24, 24, 24, 22, 19, 21, 6, 24, 18, 23, 22, 24, 23, 23, 23, 24, 8, 6, 24, 24, 24, 22, 22, 23, 24, 20, 18, 24, 23, 24, 24, 24, 7, 24, 23, 24, -5, 1, 22, 22, 8, 19, 24, 24, 24, 24, 24, 2, 23, 23, -5, -5, 7, 23, 16, 14, 1, 21, 2, 24, 6, 12, 24, 24, 10, 23, 24, 7, 24, -5, 13, 24, 7, 12, 20, 1, 0, 3, 24, 24, 24, 23, 24, 24, -5, 24, -5, 7, 5, 16, 4, 24, 1, 24, 23, 14, 22, 3, 22, -5, 24, 4, 24, 24, 23, 24, -5, 23, -5, 22, 24, 24, 24, 24, 24, -5, 3, 23, 16, 24, 6, 24, 24, 7, 23, 9, 24, 24, 24, 22, 7, 13, 23, -5, 1, 0, 23, 13, 24, 5, 23, 1, 24, 24, 2, 12, 24, 24, 5, 22, 24, 22, 23, 24, 23, 22, 22, 23, 22, 10, 24, 22, 23, 24, 24, 24, 3, 16, 24, 4, 24, 16, 24, -5, 23, 24, 24, 22, 10, 24, 23, 1, 24, 24, 24, 23, 17, 9, 20, 24, 24, 4, 23, 13, 24, 12, 17, 24, 9, -5, 23, 24, 20, -5, 9, -5, -5, 24, 23, 12, 24, 5, 23, 7, 22, 8, 20, 24, 23, 21, 10, 4, 13, 24, 5, -5, 21, 24, 4, 15, 23, 7, 22, 5, 23, 20, -5, 4, 24, 14, 4, 23, 6, 24, 23, 2, 9, 22, 23, 24, 24, 24, 3, 24, 24, 23, 24, 5, 22, 24, -5, 0, 23, 24, 21, 3, 24, 13, -5, 24, 22, 24, 24, 24, 23, 24, 5, 15, 24, 3, 8, -5, 23, 24, 24, 5, 24, 24, 13, 0, 3, 0, 5, 22, 24, 24, 21, 17, 24, 8, -5, 11, 24, 7, 24, 4, 22, 9, 3, -5, 23, 24, 24, 3, 24, 24, 23, 23, 12, 23, 11, 21, -5, 24, 24, 22, 24, 23, 14, 24, 24, 23, 22, 24, 23, 24, 21, 15, 24, -5, 23, 24, 20, 24, 22, 23, 3, 22, 20, 13, -5, -5, 23, 7, 1, -5, -5, 3, 9, 24, 23, 15, -5, 23, 24, 23, 23, 23, 9, 24, 22, 23, 11, -5, 23, 24, 24, -5, 24, 24, 3, 24, 24, 6, 5, 24, 15, 21, -5, 2, 24, 1, 24, 23, 17, 12, 24, 23, 23, 6, 1, 24, 13, 24, 16, 23, 24, 24, 2, 3, 20, 23, 23, 8, 7, -5, 5, 24, 24, 2, -5, 21, 15, 23, 24, -5, 24, 24, 23, 23, 3, 24, 24, 24, 24, 4, 9, -5, 23, 22, 24, 21, 2, -5, 22, 24, 24, 5, 4, 24, 3, 24, 22, 4, 1, 10, 23, 24, 22, 21, 23, 20, 8, 23, 2, 19, 8, 22, 1, 4, 23, -5, 3, 20, 22, 24, -5, 10, 6, -5, 23, 17, 4, 24, 7, 12, 22, 23, 22, 3, 20, 24, 24, 2, 7, 23, 22, 6, 23, 22, 24, -5, 0, 6, 7, 23, -5, 15, -5, 2, 23, 6, 8, 24, -5, 24, 22, 24, 9, 23, 15, 23, 23, 24, 16, 24, 23, 2, 23, 12, 22, 18, 15, 4, 22, -5, 3, -5, 24, 24, 23, 3, 23, 4, 23, 24, 5, 24, 24, 12, 24, 8, 2, 18, 5, 22, 0, 24, 1, 24, 23, 24, 24, 21, 3, 2, 24, 1, 21, 23, 22, 22, 4, 23, 24, 24, 24, 23, 11, 24, 23, 24, 24, 24, 23, 14, 23, 15, 23, 9, 10, 23, 22, 24, 23, 24, 22, 5, 24, 19, 22, 24, 22, 6, 24, -5, 23, 24, -5, 7, 24, 24, 22, 23, 24, 19, 24, 23, 13, 24, 24, 21, 23, 23, 24, 23, 21, 9, 24, 8, 22, 20, 24, 18, 18, 23, 24, 24, -5, 24, 24, 24, 24, 23, 15, 24, 22, 23, 24, 22, 24, 23, 22, 24, 24, 22, 24, 12, 23, 23, 4, 24, 23, 10, 9, 23, 24, 10, 0, 19, -5, 23, 22, 11, 23, 24, 23, 21, 24, 5, 3, 23, 23, -5, 23, 19, 14, 6, 23, 21, -5, 24, 23, 23, 23, 23, -5, 14, 11, 4, 24, 24, -5, 22, -5, 15, 24, 1, 4, 12, 4, 23, 24, 8, 1, 24, 23, 23, 12, 24, 2, 1, 19, 9, 7, 21, 19, 9, 24, 23, 22, 5, 24, 24, 0, 24, 23, 23, 23, 24, -5, 24, 16, 24, 3, 13, 24, 24, 24, 22, 24, 8, 2, 24, 24, 24, -5, 24, 21, 22, 24, 23, 5, 11, 7, 3, 0, 23, 24, 24]\n"
     ]
    }
   ],
   "source": [
    "print(\"major updates:\", num_major_updates)\n",
    "print(\"minor updates:\", num_minor_updates)"
   ]
  },
  {
   "cell_type": "code",
   "execution_count": null,
   "id": "6f10f99e",
   "metadata": {},
   "outputs": [
    {
     "name": "stderr",
     "output_type": "stream",
     "text": [
      "  1%|▉                                                                             | 25/2000 [03:57<5:13:14,  9.52s/it]\n"
     ]
    }
   ],
   "source": [
    "import os\n",
    "import pandas as pd\n",
    "from tqdm import tqdm\n",
    "from time import sleep\n",
    "from datetime import datetime\n",
    "from selenium import webdriver\n",
    "from webdriver_manager.chrome import ChromeDriverManager\n",
    "from selenium.common.exceptions import TimeoutException, WebDriverException\n",
    "from selenium.webdriver.support.ui import WebDriverWait\n",
    "from selenium.webdriver.support import expected_conditions as EC\n",
    "from selenium.webdriver.common.by import By\n",
    "from selenium.webdriver.chrome.options import Options\n",
    "options = Options()\n",
    "options.add_argument(\"--headless\")\n",
    "options.add_experimental_option(\"excludeSwitches\", [\"enable-logging\"])\n",
    "options.add_argument(\"--disable-dev-shm-usage\"); # overcome limited resource problems\n",
    "options.add_argument(\"--no-sandbox\"); # bypass OS security model\n",
    "\n",
    "INDEX_RANGE = [6000, 8000] # running currently on terminal: 3000, 6000\n",
    "PATH = os.path.join(os.getcwd(), \"data\")\n",
    "DATASET = pd.read_csv(os.path.join(PATH, \"apps_of_interest.csv\"))[INDEX_RANGE[0]:INDEX_RANGE[1]]\n",
    "\n",
    "def scrape_version_history():\n",
    "    links = DATASET[\"appstore_link\"].tolist()\n",
    "    num_major_updates = []\n",
    "    num_minor_updates = []\n",
    "\n",
    "    for i in tqdm(range(len(DATASET))):\n",
    "        \n",
    "        # access Apple App Store link\n",
    "        driver = webdriver.Chrome(\"C:/bin/chromedriver.exe\", options = options)\n",
    "        url = links[i]\n",
    "\n",
    "        try:\n",
    "            driver.get(url)\n",
    "        except TimeoutException as ex:\n",
    "            driver.close()\n",
    "            num_major_updates.append(-1)\n",
    "            num_minor_updates.append(-1)\n",
    "            continue\n",
    "        except WebDriverException as ex:\n",
    "            driver.close()\n",
    "            num_major_updates.append(-4)\n",
    "            num_minor_updates.append(-4)\n",
    "\n",
    "        # click on Version History button\n",
    "        try:\n",
    "            WebDriverWait(driver, 30).until(EC.element_to_be_clickable((By.XPATH, \"/html/body/div[4]/div/main/div[2]/section[4]/div[1]/div/button\")))\n",
    "            button = driver.find_element_by_xpath(\"/html/body/div[4]/div/main/div[2]/section[4]/div[1]/div/button\")\n",
    "            button.click()\n",
    "        except TimeoutException as ex:\n",
    "            driver.close()\n",
    "            num_major_updates.append(-2)\n",
    "            num_minor_updates.append(-2)\n",
    "            continue\n",
    "        \n",
    "        # get versions into an array\n",
    "        try:\n",
    "            modal = WebDriverWait(driver, 30).until(EC.presence_of_element_located((By.XPATH, \"/html/body/div[5]\")))\n",
    "            version_items = modal.find_elements_by_tag_name(\"h4\")\n",
    "        except TimeoutException as ex:\n",
    "            print(\"TimeoutException thrown at locating modal and its elements.\")\n",
    "            driver.close()\n",
    "            num_major_updates.append(-3)\n",
    "            num_minor_updates.append(-3)\n",
    "            continue\n",
    "            \n",
    "        versions = list(map(lambda v: v.text, version_items))\n",
    "        driver.close()\n",
    "        \n",
    "        # count and save the number of major and minor updates\n",
    "        major = int(len(set([v[0] for v in versions])) - 1)\n",
    "        minor = int(len(versions) - 1 - major)\n",
    "        num_major_updates.append(major)\n",
    "        num_minor_updates.append(minor)\n",
    "\n",
    "    return num_major_updates, num_minor_updates\n",
    "\n",
    "def write_to_csv():\n",
    "    fname = \"\".join([str(INDEX_RANGE[0]), \"_\", str(INDEX_RANGE[1]-1), \"_appdata.csv\"])\n",
    "    DATASET.to_csv(fname, index = False)\n",
    "\n",
    "if __name__ == '__main__':\n",
    "    num_major_updates, num_minor_updates = scrape_version_history()\n",
    "    DATASET[\"num_major_updates\"] = num_major_updates\n",
    "    DATASET[\"num_minor_updates\"] = num_minor_updates\n",
    "    write_to_csv()"
   ]
  }
 ],
 "metadata": {
  "kernelspec": {
   "display_name": "Python 3 (ipykernel)",
   "language": "python",
   "name": "python3"
  },
  "language_info": {
   "codemirror_mode": {
    "name": "ipython",
    "version": 3
   },
   "file_extension": ".py",
   "mimetype": "text/x-python",
   "name": "python",
   "nbconvert_exporter": "python",
   "pygments_lexer": "ipython3",
   "version": "3.9.5"
  }
 },
 "nbformat": 4,
 "nbformat_minor": 5
}
